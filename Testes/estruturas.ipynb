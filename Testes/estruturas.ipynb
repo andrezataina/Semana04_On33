{
 "cells": [
  {
   "cell_type": "markdown",
   "metadata": {},
   "source": [
    "## Listas\n",
    "\n",
    "brinquedos = ['carrinho', 'bicileta', 'bola', 'boneca']\n",
    "Dentro da lista temos items, podemos chama-los como função usando (item) ou (i)\n"
   ]
  },
  {
   "cell_type": "markdown",
   "metadata": {},
   "source": [
    "\n",
    "## Dicionário\n",
    "\n",
    "informacoes_brinquedos = {\n",
    "'carrinho' : 'vermelho',\n",
    "'boneca': 'azul',\n",
    "'bola' : 'amarela'\n",
    "}\n"
   ]
  },
  {
   "cell_type": "markdown",
   "metadata": {},
   "source": [
    "## Tuplas\n",
    "\n",
    "materiais = ('plastico', 'tecido', 'borracha')\n",
    "# As tuplas são imutáveis"
   ]
  },
  {
   "cell_type": "code",
   "execution_count": 2,
   "metadata": {},
   "outputs": [
    {
     "name": "stdout",
     "output_type": "stream",
     "text": [
      "maça\n",
      "banana\n",
      "pão\n",
      "leite\n",
      "queijo\n"
     ]
    }
   ],
   "source": [
    "lista_de_compras = ['maça', 'banana', 'pão', 'leite', 'queijo']\n",
    "\n",
    "for i in lista_de_compras:\n",
    "    print(i)"
   ]
  },
  {
   "cell_type": "code",
   "execution_count": 4,
   "metadata": {},
   "outputs": [
    {
     "name": "stdout",
     "output_type": "stream",
     "text": [
      "maça\n",
      "banana\n",
      "pão\n",
      "leite\n",
      "queijo\n"
     ]
    }
   ],
   "source": [
    "lista_de_compras = ['maça', 'banana', 'pão', 'leite', 'queijo']\n",
    "\n",
    "for item in lista_de_compras:\n",
    "    print(item)"
   ]
  },
  {
   "cell_type": "markdown",
   "metadata": {},
   "source": [
    "Exercicio 1 = Trabalhando com tupla\n",
    "Objetivo: criar uma tupla com nomes de cores e imprimir cada cor."
   ]
  },
  {
   "cell_type": "code",
   "execution_count": 7,
   "metadata": {},
   "outputs": [
    {
     "name": "stdout",
     "output_type": "stream",
     "text": [
      "vermelho\n",
      "amarelo\n",
      "azul\n",
      "verde\n"
     ]
    }
   ],
   "source": [
    "nomes_de_cores = ('vermelho', 'amarelo', 'azul', 'verde')\n",
    "\n",
    "for i in nomes_de_cores:\n",
    "    print(i)"
   ]
  },
  {
   "cell_type": "markdown",
   "metadata": {},
   "source": [
    "Exercicio 2 = Trabalhando com Dicionários\n",
    "Definindo um dicionário com informações sobre filmes\n"
   ]
  },
  {
   "cell_type": "code",
   "execution_count": 16,
   "metadata": {},
   "outputs": [
    {
     "name": "stdout",
     "output_type": "stream",
     "text": [
      "O filme A Bela e a Fera é da produtora Disney\n",
      "O filme Hulk é da produtora Marvel\n",
      "O filme Batman é da produtora D.C.\n"
     ]
    }
   ],
   "source": [
    "informacoes_filmes = {\n",
    "'A Bela e a Fera' : 'Disney',\n",
    "'Hulk': 'Marvel',\n",
    "'Batman' : 'D.C.'\n",
    "}\n",
    "\n",
    "for filme, produtora in informacoes_filmes.items():\n",
    "    print(f'O filme {filme} é da produtora {produtora}')"
   ]
  }
 ],
 "metadata": {
  "kernelspec": {
   "display_name": "Python 3",
   "language": "python",
   "name": "python3"
  },
  "language_info": {
   "codemirror_mode": {
    "name": "ipython",
    "version": 3
   },
   "file_extension": ".py",
   "mimetype": "text/x-python",
   "name": "python",
   "nbconvert_exporter": "python",
   "pygments_lexer": "ipython3",
   "version": "3.12.3"
  }
 },
 "nbformat": 4,
 "nbformat_minor": 2
}

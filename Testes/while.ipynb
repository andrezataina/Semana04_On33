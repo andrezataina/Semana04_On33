{
 "cells": [
  {
   "cell_type": "code",
   "execution_count": 1,
   "metadata": {},
   "outputs": [
    {
     "name": "stdout",
     "output_type": "stream",
     "text": [
      "Eu tenho 0 balas\n",
      "Eu tenho 1 balas\n",
      "Eu tenho 2 balas\n",
      "Eu tenho 3 balas\n",
      "Eu tenho 4 balas\n"
     ]
    }
   ],
   "source": [
    "balas = 0\n",
    "\n",
    "while balas < 5:\n",
    "    print('Eu tenho', balas, 'balas')\n",
    "    balas = balas + 1\n",
    "    \n",
    "\n",
    "\n",
    "\n"
   ]
  },
  {
   "cell_type": "code",
   "execution_count": 2,
   "metadata": {},
   "outputs": [
    {
     "name": "stdout",
     "output_type": "stream",
     "text": [
      "Ainda não está cheio, tenho 0 litros de água no balde\n",
      "Ainda não está cheio, tenho 1 litros de água no balde\n",
      "Ainda não está cheio, tenho 2 litros de água no balde\n",
      "Ainda não está cheio, tenho 3 litros de água no balde\n",
      "Ainda não está cheio, tenho 4 litros de água no balde\n",
      "O balde está cheio\n"
     ]
    }
   ],
   "source": [
    "agua_no_balde = 0\n",
    "balde_cheio = 5\n",
    "\n",
    "while agua_no_balde < balde_cheio:\n",
    "    print('Ainda não está cheio, tenho', agua_no_balde, 'litros de água no balde')\n",
    "    agua_no_balde += 1\n",
    "\n",
    "print('O balde está cheio')\n"
   ]
  },
  {
   "cell_type": "markdown",
   "metadata": {},
   "source": [
    "Exercicio 1: Contagem regressiva Simples\n",
    "Este exercicio pede para criar um contador regressivo de 5 até 1"
   ]
  },
  {
   "cell_type": "code",
   "execution_count": 13,
   "metadata": {},
   "outputs": [
    {
     "name": "stdout",
     "output_type": "stream",
     "text": [
      "Ainda tem 5 minutos\n",
      "Ainda tem 4 minutos\n",
      "Ainda tem 3 minutos\n",
      "Ainda tem 2 minutos\n",
      "O tempo acabou\n"
     ]
    }
   ],
   "source": [
    "tempo_regressivo = 5\n",
    "tempo_final = 1\n",
    "\n",
    "while  tempo_regressivo > tempo_final:\n",
    "    print('Ainda tem', tempo_regressivo, 'minutos')\n",
    "    tempo_regressivo -=1\n",
    "\n",
    "print('O tempo acabou')"
   ]
  },
  {
   "cell_type": "code",
   "execution_count": 16,
   "metadata": {},
   "outputs": [
    {
     "name": "stdout",
     "output_type": "stream",
     "text": [
      "5\n",
      "4\n",
      "3\n",
      "2\n",
      "1\n",
      "Feito!\n"
     ]
    }
   ],
   "source": [
    "contador = 5\n",
    "\n",
    "while contador > 0:\n",
    "    print(contador)\n",
    "    contador -= 1\n",
    "    #contador = contador -1 \n",
    "\n",
    "print('Feito!')\n"
   ]
  },
  {
   "cell_type": "markdown",
   "metadata": {},
   "source": [
    "Exercício 2: Tabuada de Multiplicação\n",
    "Neste exercício, o programa calcula e exibe a tabuada de multiplicação de um número escolhido pelo usuário.\n"
   ]
  },
  {
   "cell_type": "code",
   "execution_count": 38,
   "metadata": {},
   "outputs": [
    {
     "name": "stdout",
     "output_type": "stream",
     "text": [
      "O resultado do 3 multiplicado por 0 é 0\n",
      "O resultado do 3 multiplicado por 2 é 6\n",
      "O resultado do 3 multiplicado por 4 é 12\n",
      "O resultado do 3 multiplicado por 6 é 18\n",
      "O resultado do 3 multiplicado por 8 é 24\n",
      "O resultado do 3 multiplicado por 10 é 30\n",
      "Feito\n"
     ]
    }
   ],
   "source": [
    "numero = int(input('Digite um número: '))\n",
    "contador = 0\n",
    "\n",
    "while contador <= 10:\n",
    "    resultado = numero * contador\n",
    "    print(f'O resultado do {numero} multiplicado por {contador} é {resultado}')\n",
    "    contador += 2\n",
    "\n",
    "print('Feito')\n",
    "\n"
   ]
  },
  {
   "cell_type": "code",
   "execution_count": 33,
   "metadata": {},
   "outputs": [
    {
     "name": "stdout",
     "output_type": "stream",
     "text": [
      "O número: 2 multiplicado por 0 é 0\n",
      "O número: 2 multiplicado por 1 é 2\n",
      "O número: 2 multiplicado por 2 é 4\n",
      "O número: 2 multiplicado por 3 é 6\n",
      "O número: 2 multiplicado por 4 é 8\n",
      "O número: 2 multiplicado por 5 é 10\n",
      "O número: 2 multiplicado por 6 é 12\n",
      "O número: 2 multiplicado por 7 é 14\n",
      "O número: 2 multiplicado por 8 é 16\n",
      "O número: 2 multiplicado por 9 é 18\n",
      "O número: 2 multiplicado por 10 é 20\n",
      "Feito\n"
     ]
    }
   ],
   "source": [
    "numero = int(input('Digite um número: '))\n",
    "resultado_numero = 0\n",
    "contador = 0\n",
    "\n",
    "while contador <= 10:\n",
    "    resultado_numero = numero * contador\n",
    "    print(f'O número: {numero} multiplicado por {contador} é {resultado_numero}')\n",
    "    contador += 1\n",
    "\n",
    "print('Feito')"
   ]
  },
  {
   "cell_type": "code",
   "execution_count": 36,
   "metadata": {},
   "outputs": [
    {
     "name": "stdout",
     "output_type": "stream",
     "text": [
      "O 2 multiplicado por 0 é igual: 0\n",
      "O 2 multiplicado por 1 é igual: 2\n",
      "O 2 multiplicado por 2 é igual: 4\n",
      "O 2 multiplicado por 3 é igual: 6\n",
      "O 2 multiplicado por 4 é igual: 8\n",
      "O 2 multiplicado por 5 é igual: 10\n",
      "O 2 multiplicado por 6 é igual: 12\n",
      "O 2 multiplicado por 7 é igual: 14\n",
      "O 2 multiplicado por 8 é igual: 16\n",
      "O 2 multiplicado por 9 é igual: 18\n",
      "O 2 multiplicado por 10 é igual: 20\n",
      "Final da tabuada!\n"
     ]
    }
   ],
   "source": [
    "numero = int(input('Digite um número: '))\n",
    "contador = 0\n",
    "\n",
    "while contador <= 10:\n",
    "    resultado = numero * contador \n",
    "    print(f'O {numero} multiplicado por {contador} é igual: {resultado}')\n",
    "    contador += 1\n",
    "\n",
    "print('Final da tabuada!')\n"
   ]
  },
  {
   "cell_type": "markdown",
   "metadata": {},
   "source": [
    "for numero in range (mostra o intervalo de numeros de 0 a 5) = contagem de 0 a 4\n"
   ]
  },
  {
   "cell_type": "code",
   "execution_count": 42,
   "metadata": {},
   "outputs": [
    {
     "name": "stdout",
     "output_type": "stream",
     "text": [
      "0\n",
      "1\n",
      "2\n",
      "3\n",
      "4\n"
     ]
    }
   ],
   "source": [
    "for numero in range (5):\n",
    "    print(numero)"
   ]
  },
  {
   "cell_type": "markdown",
   "metadata": {},
   "source": [
    "A partir do 1 e até o 11 contar mais 2:"
   ]
  },
  {
   "cell_type": "code",
   "execution_count": 45,
   "metadata": {},
   "outputs": [
    {
     "name": "stdout",
     "output_type": "stream",
     "text": [
      "1\n",
      "3\n",
      "5\n",
      "7\n",
      "9\n"
     ]
    }
   ],
   "source": [
    "for i in range (1, 11, 2):\n",
    "    print(i)"
   ]
  }
 ],
 "metadata": {
  "kernelspec": {
   "display_name": "Python 3",
   "language": "python",
   "name": "python3"
  },
  "language_info": {
   "codemirror_mode": {
    "name": "ipython",
    "version": 3
   },
   "file_extension": ".py",
   "mimetype": "text/x-python",
   "name": "python",
   "nbconvert_exporter": "python",
   "pygments_lexer": "ipython3",
   "version": "3.12.3"
  }
 },
 "nbformat": 4,
 "nbformat_minor": 2
}
